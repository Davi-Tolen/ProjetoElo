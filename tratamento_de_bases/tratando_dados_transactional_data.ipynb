{
 "cells": [
  {
   "cell_type": "code",
   "execution_count": null,
   "id": "daa0d982",
   "metadata": {},
   "outputs": [],
   "source": [
    "# Importando transactional_data\n",
    "\n",
    "import pandas as pd\n",
    "\n",
    "transactional_data = pd.read_csv('../bases_iniciais/transactional_data.csv', sep=';') # tive que especificar o separador\n",
    "\n",
    "transactional_data"
   ]
  },
  {
   "cell_type": "code",
   "execution_count": null,
   "id": "3189e389",
   "metadata": {},
   "outputs": [],
   "source": [
    "transactional_data['Date of service'] = pd.to_datetime(transactional_data['Date of service'], format='%Y-%m-%d')\n",
    "transactional_data['Date of birth'] = pd.to_datetime(transactional_data['Date of birth'], format='%d/%m/%Y %H:%M:%S')\n",
    "transactional_data"
   ]
  },
  {
   "cell_type": "code",
   "execution_count": 34,
   "id": "800462d8",
   "metadata": {},
   "outputs": [
    {
     "data": {
      "text/plain": [
       "patient_id                 object\n",
       "gender                     object\n",
       "date_of_birth      datetime64[ns]\n",
       "date_of_service    datetime64[ns]\n",
       "service_id                 object\n",
       "lab_id                     object\n",
       "cod_item                    int64\n",
       "testing_cost               object\n",
       "dtype: object"
      ]
     },
     "execution_count": 34,
     "metadata": {},
     "output_type": "execute_result"
    }
   ],
   "source": [
    "transactional_data.dtypes"
   ]
  },
  {
   "cell_type": "code",
   "execution_count": null,
   "id": "095956a6",
   "metadata": {},
   "outputs": [],
   "source": [
    "transactional_data.describe(include='all')"
   ]
  },
  {
   "cell_type": "code",
   "execution_count": null,
   "id": "c3a444d6",
   "metadata": {},
   "outputs": [],
   "source": [
    "# checando valores nulos\n",
    "\n",
    "transactional_data.isna().sum()"
   ]
  },
  {
   "cell_type": "code",
   "execution_count": null,
   "id": "af919f43",
   "metadata": {},
   "outputs": [],
   "source": [
    "# checando dado com valor nulo\n",
    "\n",
    "transactional_data[transactional_data['Date of birth'].isna()]"
   ]
  },
  {
   "cell_type": "code",
   "execution_count": null,
   "id": "0c384e8b",
   "metadata": {},
   "outputs": [],
   "source": [
    "# checando se o paciente utilizou o serviço outras vezes\n",
    "\n",
    "transactional_data[transactional_data['Patient Id'] == '7659985004-1']"
   ]
  },
  {
   "cell_type": "code",
   "execution_count": null,
   "id": "7da4ee5b",
   "metadata": {},
   "outputs": [],
   "source": [
    "transactional_data.duplicated().sum()"
   ]
  },
  {
   "cell_type": "code",
   "execution_count": null,
   "id": "ece3169e",
   "metadata": {},
   "outputs": [],
   "source": [
    "# checando dado com valor duplicado\n",
    "\n",
    "transactional_data[transactional_data.duplicated()]"
   ]
  },
  {
   "cell_type": "code",
   "execution_count": null,
   "id": "24952d5b",
   "metadata": {},
   "outputs": [],
   "source": [
    "# conferindo linhas duplicadas\n",
    "\n",
    "transactional_data[transactional_data['Patient Id'] == '10240091057-BIO010']"
   ]
  },
  {
   "cell_type": "code",
   "execution_count": null,
   "id": "79b7250e",
   "metadata": {},
   "outputs": [],
   "source": [
    "# o duplicated() traz somente linhas que são duplicadas em todos os atributos, então são realmente cópias, por isso, faz sentido\n",
    "# deletar as duplicadas\n",
    "\n",
    "transactional_data = transactional_data.drop_duplicates()"
   ]
  },
  {
   "cell_type": "code",
   "execution_count": null,
   "id": "55690cc4",
   "metadata": {
    "scrolled": false
   },
   "outputs": [],
   "source": [
    "transactional_data"
   ]
  },
  {
   "cell_type": "code",
   "execution_count": null,
   "id": "9204a511",
   "metadata": {},
   "outputs": [],
   "source": [
    "# tornando nomes como padrão python\n",
    "\n",
    "transactional_data = transactional_data.rename(columns = {'Patient Id':'patient_id', 'Gender':'gender', 'Date of birth':'date_of_birth', 'Date of service':'date_of_service','Service Id':'service_id', 'Lab Id':'lab_id', 'CodItem': 'cod_item', 'Testing Cost': 'testing_cost' })\n",
    "transactional_data"
   ]
  },
  {
   "cell_type": "code",
   "execution_count": null,
   "id": "532cb7de",
   "metadata": {},
   "outputs": [],
   "source": [
    "# salvando e exportando base transformada\n",
    "\n",
    "transactional_data.to_csv('../bases_finais/final_transactional_data.csv', sep=';', index=False)"
   ]
  },
  {
   "cell_type": "code",
   "execution_count": 36,
   "id": "56fd323b",
   "metadata": {},
   "outputs": [
    {
     "data": {
      "text/html": [
       "<div>\n",
       "<style scoped>\n",
       "    .dataframe tbody tr th:only-of-type {\n",
       "        vertical-align: middle;\n",
       "    }\n",
       "\n",
       "    .dataframe tbody tr th {\n",
       "        vertical-align: top;\n",
       "    }\n",
       "\n",
       "    .dataframe thead th {\n",
       "        text-align: right;\n",
       "    }\n",
       "</style>\n",
       "<table border=\"1\" class=\"dataframe\">\n",
       "  <thead>\n",
       "    <tr style=\"text-align: right;\">\n",
       "      <th></th>\n",
       "      <th>patient_id</th>\n",
       "      <th>gender</th>\n",
       "      <th>date_of_birth</th>\n",
       "      <th>date_of_service</th>\n",
       "      <th>service_id</th>\n",
       "      <th>lab_id</th>\n",
       "      <th>cod_item</th>\n",
       "      <th>testing_cost</th>\n",
       "    </tr>\n",
       "  </thead>\n",
       "  <tbody>\n",
       "    <tr>\n",
       "      <th>0</th>\n",
       "      <td>10210830256-BIO003</td>\n",
       "      <td>F</td>\n",
       "      <td>1976-08-01</td>\n",
       "      <td>2019-01-07</td>\n",
       "      <td>571904533475-38</td>\n",
       "      <td>L133</td>\n",
       "      <td>70003237</td>\n",
       "      <td>9,0</td>\n",
       "    </tr>\n",
       "    <tr>\n",
       "      <th>1</th>\n",
       "      <td>10210830256-BIO003</td>\n",
       "      <td>F</td>\n",
       "      <td>1976-08-01</td>\n",
       "      <td>2019-01-07</td>\n",
       "      <td>571904533475-38</td>\n",
       "      <td>L133</td>\n",
       "      <td>70000638</td>\n",
       "      <td>13,0</td>\n",
       "    </tr>\n",
       "    <tr>\n",
       "      <th>2</th>\n",
       "      <td>10210830256-BIO003</td>\n",
       "      <td>F</td>\n",
       "      <td>1976-08-01</td>\n",
       "      <td>2019-01-07</td>\n",
       "      <td>571904533475-38</td>\n",
       "      <td>L133</td>\n",
       "      <td>70001597</td>\n",
       "      <td>49,0</td>\n",
       "    </tr>\n",
       "    <tr>\n",
       "      <th>3</th>\n",
       "      <td>10210830256-BIO003</td>\n",
       "      <td>F</td>\n",
       "      <td>1976-08-01</td>\n",
       "      <td>2019-01-07</td>\n",
       "      <td>571904533475-38</td>\n",
       "      <td>L133</td>\n",
       "      <td>70000103</td>\n",
       "      <td>11,0</td>\n",
       "    </tr>\n",
       "    <tr>\n",
       "      <th>4</th>\n",
       "      <td>10210830256-BIO003</td>\n",
       "      <td>F</td>\n",
       "      <td>1976-08-01</td>\n",
       "      <td>2019-01-07</td>\n",
       "      <td>571904533475-38</td>\n",
       "      <td>L133</td>\n",
       "      <td>70000224</td>\n",
       "      <td>10,0</td>\n",
       "    </tr>\n",
       "    <tr>\n",
       "      <th>...</th>\n",
       "      <td>...</td>\n",
       "      <td>...</td>\n",
       "      <td>...</td>\n",
       "      <td>...</td>\n",
       "      <td>...</td>\n",
       "      <td>...</td>\n",
       "      <td>...</td>\n",
       "      <td>...</td>\n",
       "    </tr>\n",
       "    <tr>\n",
       "      <th>2355236</th>\n",
       "      <td>7664157546-1</td>\n",
       "      <td>M</td>\n",
       "      <td>1971-03-06</td>\n",
       "      <td>2021-02-12</td>\n",
       "      <td>7664157546-1-1</td>\n",
       "      <td>L697</td>\n",
       "      <td>70004038</td>\n",
       "      <td>10,0</td>\n",
       "    </tr>\n",
       "    <tr>\n",
       "      <th>2355237</th>\n",
       "      <td>7664157546-1</td>\n",
       "      <td>M</td>\n",
       "      <td>1971-03-06</td>\n",
       "      <td>2021-02-12</td>\n",
       "      <td>7664157546-1-1</td>\n",
       "      <td>L697</td>\n",
       "      <td>70004134</td>\n",
       "      <td>10,0</td>\n",
       "    </tr>\n",
       "    <tr>\n",
       "      <th>2355238</th>\n",
       "      <td>7664157546-1</td>\n",
       "      <td>M</td>\n",
       "      <td>1971-03-06</td>\n",
       "      <td>2021-02-12</td>\n",
       "      <td>7664157546-1-1</td>\n",
       "      <td>L697</td>\n",
       "      <td>70003056</td>\n",
       "      <td>9,0</td>\n",
       "    </tr>\n",
       "    <tr>\n",
       "      <th>2355239</th>\n",
       "      <td>7664157546-1</td>\n",
       "      <td>M</td>\n",
       "      <td>1971-03-06</td>\n",
       "      <td>2021-02-12</td>\n",
       "      <td>7664157546-1-1</td>\n",
       "      <td>L697</td>\n",
       "      <td>70004185</td>\n",
       "      <td>13,0</td>\n",
       "    </tr>\n",
       "    <tr>\n",
       "      <th>2355240</th>\n",
       "      <td>7664157546-1</td>\n",
       "      <td>M</td>\n",
       "      <td>1971-03-06</td>\n",
       "      <td>2021-02-12</td>\n",
       "      <td>7664157546-1-1</td>\n",
       "      <td>L697</td>\n",
       "      <td>70000392</td>\n",
       "      <td>8,0</td>\n",
       "    </tr>\n",
       "  </tbody>\n",
       "</table>\n",
       "<p>2340722 rows × 8 columns</p>\n",
       "</div>"
      ],
      "text/plain": [
       "                 patient_id gender date_of_birth date_of_service  \\\n",
       "0        10210830256-BIO003      F    1976-08-01      2019-01-07   \n",
       "1        10210830256-BIO003      F    1976-08-01      2019-01-07   \n",
       "2        10210830256-BIO003      F    1976-08-01      2019-01-07   \n",
       "3        10210830256-BIO003      F    1976-08-01      2019-01-07   \n",
       "4        10210830256-BIO003      F    1976-08-01      2019-01-07   \n",
       "...                     ...    ...           ...             ...   \n",
       "2355236        7664157546-1      M    1971-03-06      2021-02-12   \n",
       "2355237        7664157546-1      M    1971-03-06      2021-02-12   \n",
       "2355238        7664157546-1      M    1971-03-06      2021-02-12   \n",
       "2355239        7664157546-1      M    1971-03-06      2021-02-12   \n",
       "2355240        7664157546-1      M    1971-03-06      2021-02-12   \n",
       "\n",
       "              service_id lab_id  cod_item testing_cost  \n",
       "0        571904533475-38   L133  70003237          9,0  \n",
       "1        571904533475-38   L133  70000638         13,0  \n",
       "2        571904533475-38   L133  70001597         49,0  \n",
       "3        571904533475-38   L133  70000103         11,0  \n",
       "4        571904533475-38   L133  70000224         10,0  \n",
       "...                  ...    ...       ...          ...  \n",
       "2355236   7664157546-1-1   L697  70004038         10,0  \n",
       "2355237   7664157546-1-1   L697  70004134         10,0  \n",
       "2355238   7664157546-1-1   L697  70003056          9,0  \n",
       "2355239   7664157546-1-1   L697  70004185         13,0  \n",
       "2355240   7664157546-1-1   L697  70000392          8,0  \n",
       "\n",
       "[2340722 rows x 8 columns]"
      ]
     },
     "execution_count": 36,
     "metadata": {},
     "output_type": "execute_result"
    }
   ],
   "source": [
    "transactional_data"
   ]
  },
  {
   "cell_type": "code",
   "execution_count": null,
   "id": "43d9419b",
   "metadata": {},
   "outputs": [],
   "source": []
  }
 ],
 "metadata": {
  "kernelspec": {
   "display_name": "Python 3 (ipykernel)",
   "language": "python",
   "name": "python3"
  },
  "language_info": {
   "codemirror_mode": {
    "name": "ipython",
    "version": 3
   },
   "file_extension": ".py",
   "mimetype": "text/x-python",
   "name": "python",
   "nbconvert_exporter": "python",
   "pygments_lexer": "ipython3",
   "version": "3.9.7"
  }
 },
 "nbformat": 4,
 "nbformat_minor": 5
}
